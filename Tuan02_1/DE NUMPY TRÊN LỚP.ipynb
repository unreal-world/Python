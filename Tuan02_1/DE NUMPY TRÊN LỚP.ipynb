{
 "cells": [
  {
   "cell_type": "markdown",
   "id": "10a232ea-bf1d-45fa-89d1-f617a7244186",
   "metadata": {},
   "source": [
    "## 50 câu hỏi ngắn về Numpy"
   ]
  },
  {
   "cell_type": "markdown",
   "id": "ba2c2125-17b8-416c-9233-ad9d75c89c23",
   "metadata": {},
   "source": [
    "### Câu hỏi 1: import numpy dưới bí danh np và xem phiên bản"
   ]
  },
  {
   "cell_type": "code",
   "execution_count": 8,
   "id": "fa97ab1f-f44a-41c5-acaf-040dda2423d7",
   "metadata": {},
   "outputs": [
    {
     "name": "stdout",
     "output_type": "stream",
     "text": [
      "2.3.2\n"
     ]
    }
   ],
   "source": [
    "import numpy as np\n",
    "print(np.__version__)"
   ]
  },
  {
   "cell_type": "markdown",
   "id": "4b8b0402-524f-4000-baa5-9e4363fceefa",
   "metadata": {},
   "source": [
    "### Câu hỏi 2: Làm thế nào để tạo mảng 1 chiều?"
   ]
  },
  {
   "cell_type": "code",
   "execution_count": 4,
   "id": "d98abb1e-ae94-4d85-8330-80914fe0ab11",
   "metadata": {},
   "outputs": [],
   "source": [
    "import numpy as np\n",
    "arr = np.array([1, 2, 3, 4, 5])"
   ]
  },
  {
   "cell_type": "markdown",
   "id": "0e714350-5354-4dc2-8e4c-707b7917c706",
   "metadata": {},
   "source": [
    "### Câu hỏi 3: Làm thế nào để tạo một mảng boolean?"
   ]
  },
  {
   "cell_type": "code",
   "execution_count": 6,
   "id": "536f7557-e2ee-4176-9ffd-f072660ec318",
   "metadata": {},
   "outputs": [],
   "source": [
    "\n",
    "arr_bool = np.array([True, False, True])"
   ]
  },
  {
   "cell_type": "code",
   "execution_count": 68,
   "id": "90907205-4682-4359-850e-898b2ef6a381",
   "metadata": {},
   "outputs": [
    {
     "name": "stdout",
     "output_type": "stream",
     "text": [
      "[False False  True  True]\n"
     ]
    }
   ],
   "source": [
    "a = np.array([1, 5, 10, 15])\n",
    "\n",
    "a_bool = a > 5\n",
    "print(a_bool)\n"
   ]
  },
  {
   "cell_type": "code",
   "execution_count": 72,
   "id": "417d8d50-0ff3-4817-b9c3-c59073457dc2",
   "metadata": {},
   "outputs": [
    {
     "name": "stdout",
     "output_type": "stream",
     "text": [
      "[ True  True  True  True  True]\n"
     ]
    }
   ],
   "source": [
    "a_bool = np.ones(5, dtype=bool)\n",
    "print(a_bool)\n"
   ]
  },
  {
   "cell_type": "code",
   "execution_count": 71,
   "id": "5729213c-59e5-49b1-8b8a-87fa1163d68e",
   "metadata": {},
   "outputs": [
    {
     "name": "stdout",
     "output_type": "stream",
     "text": [
      "[False False False False False]\n"
     ]
    }
   ],
   "source": [
    "a_bool = np.zeros(5, dtype=bool)\n",
    "print(a_bool)"
   ]
  },
  {
   "cell_type": "markdown",
   "id": "670b4f62-c6d9-45f4-b4a7-7e1d305adfd2",
   "metadata": {},
   "source": [
    "### Câu hỏi 4: Làm thế nào để trích xuất các mục thỏa mãn một điều kiện nhất định từ mảng 1 chiều?\n",
    "Ví dụ: Trích xuất tất cả các số lẻ từ mảng"
   ]
  },
  {
   "cell_type": "code",
   "execution_count": null,
   "id": "6d3b4c8d-d279-49dc-92b4-c731ff9cfc5e",
   "metadata": {},
   "outputs": [
    {
     "name": "stdout",
     "output_type": "stream",
     "text": [
      "1\n",
      "3\n",
      "5\n"
     ]
    }
   ],
   "source": [
    "\n",
    "arr = np.array([1, 2, 3, 4, 5])\n",
    "for i in arr:\n",
    "    if i % 2 == 1:\n",
    "        print(i)"
   ]
  },
  {
   "cell_type": "markdown",
   "id": "4ba3b6fa-f38a-4cad-8ec8-94ae1975525d",
   "metadata": {},
   "source": [
    "### Câu hỏi 5: Làm thế nào để thay thế các mục thỏa mãn một điều kiện bằng một giá trị khác trong mảng numpy?\n",
    "Ví dụ: Thay thế tất cả các số lẻ trong arr bằng -1"
   ]
  },
  {
   "cell_type": "code",
   "execution_count": null,
   "id": "d138370c-a76c-454a-92bd-796a8768464d",
   "metadata": {},
   "outputs": [
    {
     "name": "stdout",
     "output_type": "stream",
     "text": [
      "[-1  2 -1  4 -1]\n"
     ]
    }
   ],
   "source": [
    "\n",
    "arr = np.array([1, 2, 3, 4, 5])\n",
    "for i in range(len(arr)):\n",
    "    if arr[i] % 2 == 1:\n",
    "        arr[i] = -1\n",
    "print(arr)"
   ]
  },
  {
   "cell_type": "markdown",
   "id": "df0bed91-0e03-4335-b583-81f62649d4a5",
   "metadata": {},
   "source": [
    "### Câu hỏi 6: Làm thế nào để thay thế các mục thỏa mãn một điều kiện mà không ảnh hưởng đến mảng ban đầu?\n",
    "Ví dụ: Thay thế tất cả các số lẻ trong arr bằng -1 mà không thay đổi arr"
   ]
  },
  {
   "cell_type": "code",
   "execution_count": null,
   "id": "6df6eec0-4ce6-435c-a6da-22078b54a4ec",
   "metadata": {},
   "outputs": [
    {
     "name": "stdout",
     "output_type": "stream",
     "text": [
      "[-1  2 -1  4 -1]\n",
      "[1 2 3 4 5]\n"
     ]
    }
   ],
   "source": [
    "\n",
    "arr = np.array([1, 2, 3, 4, 5])\n",
    "arr_copy = arr.copy()  \n",
    "\n",
    "for i in range(len(arr)):\n",
    "    if arr_copy[i] % 2 == 1:\n",
    "        arr_copy[i] = -1\n",
    "        \n",
    "print(arr_copy)\n",
    "print(arr)"
   ]
  },
  {
   "cell_type": "markdown",
   "id": "b647c4ae-94b2-4715-ab5f-0531ab251744",
   "metadata": {},
   "source": [
    "### Câu hỏi 7: Làm thế nào để định hình lại một mảng?"
   ]
  },
  {
   "cell_type": "code",
   "execution_count": 16,
   "id": "94fb4f87-d237-4761-b53f-33f4c73faaee",
   "metadata": {},
   "outputs": [
    {
     "name": "stdout",
     "output_type": "stream",
     "text": [
      "[[1]\n",
      " [2]\n",
      " [3]\n",
      " [4]\n",
      " [5]]\n"
     ]
    }
   ],
   "source": [
    "arr_reshape = arr.reshape(5, 1)\n",
    "print(arr_reshape)"
   ]
  },
  {
   "cell_type": "markdown",
   "id": "aad1f83e-aa57-48de-a561-6dff5d937a22",
   "metadata": {},
   "source": [
    "### Câu hỏi 8: Làm thế nào để xếp chồng hai mảng theo chiều dọc?"
   ]
  },
  {
   "cell_type": "code",
   "execution_count": 20,
   "id": "e067ea17-89fa-4c80-9b75-47afc3a37b56",
   "metadata": {},
   "outputs": [
    {
     "name": "stdout",
     "output_type": "stream",
     "text": [
      "[[ 1  2  3  4  5]\n",
      " [ 6  7  8  9 10]]\n"
     ]
    }
   ],
   "source": [
    "arr2 = np.array([6, 7, 8, 9, 10])\n",
    "\n",
    "arr_stack = np.vstack((arr, arr2))\n",
    "print(arr_stack)"
   ]
  },
  {
   "cell_type": "markdown",
   "id": "5fd2a1c2-7806-41fa-828c-06821f1de76d",
   "metadata": {},
   "source": [
    "### Câu hỏi 9: Làm thế nào để xếp chồng hai mảng theo chiều ngang?"
   ]
  },
  {
   "cell_type": "code",
   "execution_count": 21,
   "id": "913e6f4d-502b-48df-9911-09445526c414",
   "metadata": {},
   "outputs": [
    {
     "name": "stdout",
     "output_type": "stream",
     "text": [
      "[ 1  2  3  4  5  6  7  8  9 10]\n"
     ]
    }
   ],
   "source": [
    "arr_stack_2 = np.hstack((arr, arr2))\n",
    "print(arr_stack_2)"
   ]
  },
  {
   "cell_type": "markdown",
   "id": "42773514-47ee-432d-b43c-27e45b52df5c",
   "metadata": {},
   "source": [
    "### Câu hỏi 10: Làm thế nào để tạo các chuỗi tùy chỉnh trong numpy mà không cần mã hóa cứng?\n",
    "Ví dụ: \n",
    "Input: a = np.array([1,2,3])\n",
    "\n",
    "Output: array([1, 1, 1, 2, 2, 2, 3, 3, 3, 1, 2, 3, 1, 2, 3, 1, 2, 3])"
   ]
  },
  {
   "cell_type": "code",
   "execution_count": 24,
   "id": "1b36f331-116a-4ecc-8faa-04fb7ea1453b",
   "metadata": {},
   "outputs": [
    {
     "name": "stdout",
     "output_type": "stream",
     "text": [
      "[1 1 1 2 2 2 3 3 3 1 2 3 1 2 3 1 2 3]\n"
     ]
    }
   ],
   "source": [
    "a = np.array([1, 2, 3])\n",
    "\n",
    "temp1 = np.repeat(a, 3)\n",
    "temp2 = np.tile(a, 3)\n",
    "\n",
    "array = np.concatenate((temp1, temp2), axis=0)\n",
    "print(array)\n"
   ]
  },
  {
   "cell_type": "markdown",
   "id": "b54fabab-c8d7-4c1a-8af1-dd8b60ec8db2",
   "metadata": {},
   "source": [
    "### Câu hỏi 11. Làm thế nào để lấy các mục chung giữa hai mảng numpy python?\n",
    "Ví dụ: \n",
    "Input: a = np.array([1,2,3,2,3,4,3,4,5,6])\n",
    "\n",
    "        b = np.array([7,2,10,2,7,4,9,4,9,8])\n",
    "\n",
    "Output: array([2, 4])"
   ]
  },
  {
   "cell_type": "code",
   "execution_count": 28,
   "id": "37e0fbce-5aa9-4433-8aee-dcc0826d5e8a",
   "metadata": {},
   "outputs": [
    {
     "name": "stdout",
     "output_type": "stream",
     "text": [
      "[2 4]\n"
     ]
    }
   ],
   "source": [
    "a = np.array([1, 2, 3, 2, 3, 4, 3, 4, 5, 6])\n",
    "b = np.array([7, 2, 10, 2, 7, 4, 9, 4, 9, 8])\n",
    "\n",
    "array = np.intersect1d(a, b)\n",
    "print(array)"
   ]
  },
  {
   "cell_type": "code",
   "execution_count": 36,
   "id": "f7aee796-f481-4d56-a199-4508b24479d5",
   "metadata": {},
   "outputs": [
    {
     "name": "stdout",
     "output_type": "stream",
     "text": [
      "[2 4]\n"
     ]
    }
   ],
   "source": [
    "array = np.array([], dtype=int)\n",
    "for i in a:\n",
    "    for j in b:\n",
    "        if i == j and i not in array:\n",
    "            array = np.append(array, i)            \n",
    "\n",
    "print(array)\n"
   ]
  },
  {
   "cell_type": "markdown",
   "id": "c47faf97-6034-4427-aedb-44fdc6583fdd",
   "metadata": {},
   "source": [
    "### Câu hỏi 12. Làm thế nào để xóa khỏi một mảng những mục tồn tại trong mảng khác? \n",
    "Ví dụ: Input: a = np.array([1,2,3,4,5])\n",
    "\n",
    "              b = np.array([5,6,7,8,9])\n",
    "\n",
    "Output: array([1,2,3,4])"
   ]
  },
  {
   "cell_type": "code",
   "execution_count": 38,
   "id": "d7ce62d8-c3d0-4b8e-90a1-fb86c646d86a",
   "metadata": {},
   "outputs": [
    {
     "name": "stdout",
     "output_type": "stream",
     "text": [
      "[1 2 3 4]\n"
     ]
    }
   ],
   "source": [
    "a = np.array([1, 2, 3, 4, 5])\n",
    "b = np.array([5, 6, 7, 8, 9])\n",
    "\n",
    "array = np.setdiff1d(a, b)\n",
    "print(array)  "
   ]
  },
  {
   "cell_type": "markdown",
   "id": "ef417ca6-7e7d-4ba4-8837-0c485fc073d1",
   "metadata": {},
   "source": [
    "### Câu hỏi 13. Làm thế nào để lấy các vị trí mà các phần tử của hai mảng khớp nhau?\n",
    "\n",
    "Ví dụ: \n",
    "\n",
    "Input: a = np.array([1,2,3,2,3,4,3,4,5,6])\n",
    "\n",
    "       b = np.array([7,2,10,2,7,4,9,4,9,8])\n",
    "\n",
    "Output: (array([1, 3, 5, 7]),)"
   ]
  },
  {
   "cell_type": "code",
   "execution_count": 7,
   "id": "70cffccb-0090-4cea-9ffb-d4de29fa8278",
   "metadata": {},
   "outputs": [
    {
     "name": "stdout",
     "output_type": "stream",
     "text": [
      "(array([1, 3, 5, 7]),)\n"
     ]
    }
   ],
   "source": [
    "\n",
    "a = np.array([1,2,3,2,3,4,3,4,5,6])\n",
    "b = np.array([7,2,10,2,7,4,9,4,9,8])\n",
    "\n",
    "vi_tri = np.where(a == b)\n",
    "\n",
    "print(vi_tri)\n"
   ]
  },
  {
   "cell_type": "markdown",
   "id": "7306243c-dbb1-43f2-bc8e-dbe7b3a4f681",
   "metadata": {},
   "source": [
    "### Câu hỏi 14. Làm thế nào để trích xuất tất cả các số trong một phạm vi nhất định từ một mảng numpy?\n",
    "\n",
    "Ví dụ: \n",
    "Input: a = np.array([2, 6, 1, 9, 10, 3, 27])\n",
    "\n",
    "Output: (array([6, 9, 10]),)"
   ]
  },
  {
   "cell_type": "code",
   "execution_count": 8,
   "id": "25ea56ca-536b-493c-8304-227a7503efc2",
   "metadata": {},
   "outputs": [
    {
     "name": "stdout",
     "output_type": "stream",
     "text": [
      "[ 6  9 10]\n"
     ]
    }
   ],
   "source": [
    "\n",
    "a = np.array([2, 6, 1, 9, 10, 3, 27])\n",
    "\n",
    "temp = a[(a >= 5) & (a <= 10)]\n",
    "\n",
    "print(temp)\n"
   ]
  },
  {
   "cell_type": "markdown",
   "id": "b893dc4b-ba59-41b4-9f87-bcc3934fb382",
   "metadata": {},
   "source": [
    "### Câu hỏi 16. Làm thế nào để hoán đổi hai cột trong một mảng numpy 2 chiều? "
   ]
  },
  {
   "cell_type": "code",
   "execution_count": 9,
   "id": "fbead736-b47b-444a-b88a-7e5b6aa15720",
   "metadata": {},
   "outputs": [
    {
     "name": "stdout",
     "output_type": "stream",
     "text": [
      "[[1 2 3]\n",
      " [4 5 6]]\n",
      "[[2 1 3]\n",
      " [5 4 6]]\n"
     ]
    }
   ],
   "source": [
    "a = np.array([[1, 2, 3],\n",
    "              [4, 5, 6]])\n",
    "\n",
    "print(a)\n",
    "\n",
    "a[:, [0, 1]] = a[:, [1, 0]]\n",
    "print(a)"
   ]
  },
  {
   "cell_type": "markdown",
   "id": "d54707f1-c68e-44b4-89cf-1dc8ffd8998f",
   "metadata": {},
   "source": [
    "### Câu hỏi 17. Làm thế nào để hoán đổi hai hàng trong một mảng numpy 2 chiều? "
   ]
  },
  {
   "cell_type": "code",
   "execution_count": 10,
   "id": "8bb378a3-262f-4fad-a51b-76ef632ee0c2",
   "metadata": {},
   "outputs": [
    {
     "name": "stdout",
     "output_type": "stream",
     "text": [
      "[[1 2 3]\n",
      " [4 5 6]]\n",
      "[[4 5 6]\n",
      " [1 2 3]]\n"
     ]
    }
   ],
   "source": [
    "a = np.array([[1, 2, 3],\n",
    "              [4, 5, 6]])\n",
    "\n",
    "print(a)\n",
    "\n",
    "a[[0, 1], :] = a[[1, 0], :]\n",
    "print(a)"
   ]
  },
  {
   "cell_type": "markdown",
   "id": "25edc3ac-4c20-4df2-ac99-8577cd7b7b42",
   "metadata": {},
   "source": [
    "### Câu hỏi 18. Làm thế nào để đảo ngược các hàng của một mảng 2 chiều? "
   ]
  },
  {
   "cell_type": "code",
   "execution_count": 11,
   "id": "3ab32507-507b-45d7-bd6f-c192197cec1d",
   "metadata": {},
   "outputs": [
    {
     "name": "stdout",
     "output_type": "stream",
     "text": [
      "[[4 5 6]\n",
      " [1 2 3]]\n"
     ]
    }
   ],
   "source": [
    "a = np.array([[1, 2, 3],\n",
    "              [4, 5, 6]])\n",
    "\n",
    "a_reverse = a[::-1]\n",
    "print(a_reverse)"
   ]
  },
  {
   "cell_type": "markdown",
   "id": "7c17facc-e4b9-4b53-8c24-39e4c2f970a3",
   "metadata": {},
   "source": [
    "### Câu hỏi 19. Làm thế nào để đảo ngược các cột của một mảng 2 chiều?"
   ]
  },
  {
   "cell_type": "code",
   "execution_count": 12,
   "id": "84d754cc-88d2-47c8-8e28-453529494432",
   "metadata": {},
   "outputs": [
    {
     "name": "stdout",
     "output_type": "stream",
     "text": [
      "[[3 2 1]\n",
      " [6 5 4]]\n"
     ]
    }
   ],
   "source": [
    "a = np.array([[1, 2, 3],\n",
    "              [4, 5, 6]])\n",
    "\n",
    "a_reverse = a[:, ::-1]\n",
    "print(a_reverse)"
   ]
  },
  {
   "cell_type": "markdown",
   "id": "f58eff0c-27fa-42f8-b4e0-bc3abef4b0eb",
   "metadata": {},
   "source": [
    "### Câu hỏi 20. Làm thế nào để tạo một mảng 2 chiều chứa các số thực ngẫu nhiên giữa 5 và 10?"
   ]
  },
  {
   "cell_type": "code",
   "execution_count": 13,
   "id": "6da67084-4816-4aa5-9395-3613e1d8f97b",
   "metadata": {},
   "outputs": [
    {
     "name": "stdout",
     "output_type": "stream",
     "text": [
      "[[7.38075026 6.84368679 8.69633564]\n",
      " [7.97452311 7.75537585 7.21273284]\n",
      " [8.97295988 7.68347104 5.89106707]]\n"
     ]
    }
   ],
   "source": [
    "\n",
    "a = np.random.uniform(5, 10, size=(3, 3))\n",
    "\n",
    "print(a)\n"
   ]
  },
  {
   "cell_type": "markdown",
   "id": "36d00fbe-de8e-4d6f-8836-ffd6393c4cbd",
   "metadata": {},
   "source": [
    "### Câu hỏi 21. Làm thế nào để chỉ in 3 chữ số thập phân trong mảng numpy python? "
   ]
  },
  {
   "cell_type": "code",
   "execution_count": 16,
   "id": "9091f512-888a-4df8-b349-f7a4add6dd34",
   "metadata": {},
   "outputs": [
    {
     "name": "stdout",
     "output_type": "stream",
     "text": [
      "[1.123 2.434 3.988]\n"
     ]
    }
   ],
   "source": [
    "a = np.array([1.12345, 2.434234, 3.98765])\n",
    "\n",
    "print(a.round(3))"
   ]
  },
  {
   "cell_type": "markdown",
   "id": "af507e3a-dea0-4924-ba7a-875a6349f0fa",
   "metadata": {},
   "source": [
    "### Câu hỏi 22. Làm thế nào để in đẹp một mảng numpy bằng cách loại bỏ ký hiệu khoa học (như 1e10)? "
   ]
  },
  {
   "cell_type": "code",
   "execution_count": 29,
   "id": "cbb598af-ff37-489b-a918-d50eb9f857c5",
   "metadata": {},
   "outputs": [
    {
     "name": "stdout",
     "output_type": "stream",
     "text": [
      "[123000.0000 0.0000 4.5678]\n"
     ]
    }
   ],
   "source": [
    "import numpy as np\n",
    "\n",
    "a = np.array([1.23e5, 2.34e-8, 4.5678])\n",
    "\n",
    "np.set_printoptions(formatter={'float_kind': \"{:0.4f}\".format})\n",
    "print(a)\n",
    "\n"
   ]
  },
  {
   "cell_type": "markdown",
   "id": "b725f530-f49c-4ab4-bba0-84c472c1db5f",
   "metadata": {},
   "source": [
    "### Câu hỏi 24. Làm thế nào để in toàn bộ mảng numpy mà không cần cắt bớt"
   ]
  },
  {
   "cell_type": "code",
   "execution_count": null,
   "id": "7fbac810-aacf-45cc-984e-985452ce30a1",
   "metadata": {},
   "outputs": [
    {
     "name": "stdout",
     "output_type": "stream",
     "text": [
      "[  0   1   2   3   4   5   6   7   8   9  10  11  12  13  14  15  16  17\n",
      "  18  19  20  21  22  23  24  25  26  27  28  29  30  31  32  33  34  35\n",
      "  36  37  38  39  40  41  42  43  44  45  46  47  48  49  50  51  52  53\n",
      "  54  55  56  57  58  59  60  61  62  63  64  65  66  67  68  69  70  71\n",
      "  72  73  74  75  76  77  78  79  80  81  82  83  84  85  86  87  88  89\n",
      "  90  91  92  93  94  95  96  97  98  99 100 101 102 103 104 105 106 107\n",
      " 108 109 110 111 112 113 114 115 116 117 118 119 120 121 122 123 124 125\n",
      " 126 127 128 129 130 131 132 133 134 135 136 137 138 139 140 141 142 143\n",
      " 144 145 146 147 148 149 150 151 152 153 154 155 156 157 158 159 160 161\n",
      " 162 163 164 165 166 167 168 169 170 171 172 173 174 175 176 177 178 179\n",
      " 180 181 182 183 184 185 186 187 188 189 190 191 192 193 194 195 196 197\n",
      " 198 199 200 201 202 203 204 205 206 207 208 209 210 211 212 213 214 215\n",
      " 216 217 218 219 220 221 222 223 224 225 226 227 228 229 230 231 232 233\n",
      " 234 235 236 237 238 239 240 241 242 243 244 245 246 247 248 249 250 251\n",
      " 252 253 254 255 256 257 258 259 260 261 262 263 264 265 266 267 268 269\n",
      " 270 271 272 273 274 275 276 277 278 279 280 281 282 283 284 285 286 287\n",
      " 288 289 290 291 292 293 294 295 296 297 298 299 300 301 302 303 304 305\n",
      " 306 307 308 309 310 311 312 313 314 315 316 317 318 319 320 321 322 323\n",
      " 324 325 326 327 328 329 330 331 332 333 334 335 336 337 338 339 340 341\n",
      " 342 343 344 345 346 347 348 349 350 351 352 353 354 355 356 357 358 359\n",
      " 360 361 362 363 364 365 366 367 368 369 370 371 372 373 374 375 376 377\n",
      " 378 379 380 381 382 383 384 385 386 387 388 389 390 391 392 393 394 395\n",
      " 396 397 398 399 400 401 402 403 404 405 406 407 408 409 410 411 412 413\n",
      " 414 415 416 417 418 419 420 421 422 423 424 425 426 427 428 429 430 431\n",
      " 432 433 434 435 436 437 438 439 440 441 442 443 444 445 446 447 448 449\n",
      " 450 451 452 453 454 455 456 457 458 459 460 461 462 463 464 465 466 467\n",
      " 468 469 470 471 472 473 474 475 476 477 478 479 480 481 482 483 484 485\n",
      " 486 487 488 489 490 491 492 493 494 495 496 497 498 499 500 501 502 503\n",
      " 504 505 506 507 508 509 510 511 512 513 514 515 516 517 518 519 520 521\n",
      " 522 523 524 525 526 527 528 529 530 531 532 533 534 535 536 537 538 539\n",
      " 540 541 542 543 544 545 546 547 548 549 550 551 552 553 554 555 556 557\n",
      " 558 559 560 561 562 563 564 565 566 567 568 569 570 571 572 573 574 575\n",
      " 576 577 578 579 580 581 582 583 584 585 586 587 588 589 590 591 592 593\n",
      " 594 595 596 597 598 599 600 601 602 603 604 605 606 607 608 609 610 611\n",
      " 612 613 614 615 616 617 618 619 620 621 622 623 624 625 626 627 628 629\n",
      " 630 631 632 633 634 635 636 637 638 639 640 641 642 643 644 645 646 647\n",
      " 648 649 650 651 652 653 654 655 656 657 658 659 660 661 662 663 664 665\n",
      " 666 667 668 669 670 671 672 673 674 675 676 677 678 679 680 681 682 683\n",
      " 684 685 686 687 688 689 690 691 692 693 694 695 696 697 698 699 700 701\n",
      " 702 703 704 705 706 707 708 709 710 711 712 713 714 715 716 717 718 719\n",
      " 720 721 722 723 724 725 726 727 728 729 730 731 732 733 734 735 736 737\n",
      " 738 739 740 741 742 743 744 745 746 747 748 749 750 751 752 753 754 755\n",
      " 756 757 758 759 760 761 762 763 764 765 766 767 768 769 770 771 772 773\n",
      " 774 775 776 777 778 779 780 781 782 783 784 785 786 787 788 789 790 791\n",
      " 792 793 794 795 796 797 798 799 800 801 802 803 804 805 806 807 808 809\n",
      " 810 811 812 813 814 815 816 817 818 819 820 821 822 823 824 825 826 827\n",
      " 828 829 830 831 832 833 834 835 836 837 838 839 840 841 842 843 844 845\n",
      " 846 847 848 849 850 851 852 853 854 855 856 857 858 859 860 861 862 863\n",
      " 864 865 866 867 868 869 870 871 872 873 874 875 876 877 878 879 880 881\n",
      " 882 883 884 885 886 887 888 889 890 891 892 893 894 895 896 897 898 899\n",
      " 900 901 902 903 904 905 906 907 908 909 910 911 912 913 914 915 916 917\n",
      " 918 919 920 921 922 923 924 925 926 927 928 929 930 931 932 933 934 935\n",
      " 936 937 938 939 940 941 942 943 944 945 946 947 948 949 950 951 952 953\n",
      " 954 955 956 957 958 959 960 961 962 963 964 965 966 967 968 969 970 971\n",
      " 972 973 974 975 976 977 978 979 980 981 982 983 984 985 986 987 988 989\n",
      " 990 991 992 993 994 995 996 997 998 999]\n"
     ]
    }
   ],
   "source": [
    "\n",
    "a = np.arange(1000)\n",
    "\n",
    "np.set_printoptions(threshold=np.inf)\n",
    "print(a)\n"
   ]
  },
  {
   "cell_type": "markdown",
   "id": "250594ef-54ee-442f-a1dd-f677391488f4",
   "metadata": {},
   "source": [
    "### Câu hỏi 28. Làm thế nào để tính giá trị trung bình, trung vị, độ lệch chuẩn của một mảng numpy?"
   ]
  },
  {
   "cell_type": "code",
   "execution_count": 37,
   "id": "b22d13c6-9897-4993-891c-a7cffa1a72cf",
   "metadata": {},
   "outputs": [
    {
     "name": "stdout",
     "output_type": "stream",
     "text": [
      "Gia tri trung binh: 5.0\n",
      "Trung vi: 5.0\n",
      "Do lech chuan: 2.581988897471611\n"
     ]
    }
   ],
   "source": [
    "\n",
    "a = np.array([1, 2, 3, 4, 5, 6, 7, 8, 9])\n",
    "\n",
    "a_trung_binh = np.mean(a)      \n",
    "a_trung_vi = np.median(a)   \n",
    "a_do_lech_chuan = np.std(a)         \n",
    "\n",
    "print(\"Gia tri trung binh:\", a_trung_binh)\n",
    "print(\"Trung vi:\", a_trung_vi)\n",
    "print(\"Do lech chuan:\", a_do_lech_chuan)\n"
   ]
  },
  {
   "cell_type": "markdown",
   "id": "596dc0c1-921f-427a-ab3f-8fe074055b97",
   "metadata": {},
   "source": [
    "### Câu hỏi 29. Làm thế nào để chuẩn hóa một mảng sao cho các giá trị nằm chính xác trong khoảng từ 0 đến 1?"
   ]
  },
  {
   "cell_type": "code",
   "execution_count": 39,
   "id": "ba9f6c0d-b516-40ee-8753-6e24cf2e1622",
   "metadata": {},
   "outputs": [
    {
     "name": "stdout",
     "output_type": "stream",
     "text": [
      "[0.    0.019 1.    0.058 0.077]\n"
     ]
    }
   ],
   "source": [
    "\n",
    "a = np.array([1, 2, 53, 4, 5])\n",
    "\n",
    "a_chuan_hoa = (a - a.min()) / (a.max() - a.min())\n",
    "\n",
    "print(a_chuan_hoa)\n"
   ]
  },
  {
   "cell_type": "markdown",
   "id": "49b934f2-45a0-40b4-b31b-d21a4d03b12b",
   "metadata": {},
   "source": [
    "### Câu hỏi 30. Làm thế nào để tính điểm softmax?"
   ]
  },
  {
   "cell_type": "code",
   "execution_count": 40,
   "id": "aa22c936-122d-40e4-9906-cd913ed252f4",
   "metadata": {},
   "outputs": [
    {
     "name": "stdout",
     "output_type": "stream",
     "text": [
      "Softmax: [0.09  0.245 0.665]\n"
     ]
    }
   ],
   "source": [
    "\n",
    "def tinh_softmax(x):\n",
    "    e_x = np.exp(x - np.max(x))\n",
    "    return e_x / e_x.sum()\n",
    "\n",
    "a = np.array([1, 2, 3])\n",
    "print(\"Softmax:\", tinh_softmax(a))\n",
    "\n"
   ]
  },
  {
   "cell_type": "markdown",
   "id": "f0a73488-1cc4-429f-bd78-3746e01eb8cb",
   "metadata": {},
   "source": [
    "### Câu hỏi 32. Làm thế nào để chèn các giá trị ở các vị trí ngẫu nhiên trong một mảng?\n",
    "\n",
    "Ví dụ: Chèn giá trị 0 vào 20 vị trí ngẫu nhiên trong tập dữ liệu a"
   ]
  },
  {
   "cell_type": "code",
   "execution_count": null,
   "id": "aaced55b-5524-48fc-b34e-53def3efad28",
   "metadata": {},
   "outputs": [
    {
     "name": "stdout",
     "output_type": "stream",
     "text": [
      "[52 61 80 96 18 30 87 39 68 71 37 34 64 13 41 94 45 27 91 35]\n",
      "[ 1  2  3  4  5  6  7  8  9 10 11 12 13  0 15 16 17 18  0 20 21 22 23 24\n",
      " 25 26 27  0 29 30  0 32 33 34  0  0 37  0 39  0 41  0 43 44 45  0 47 48\n",
      " 49 50 51 52  0 54 55 56 57 58 59 60 61  0 63 64  0 66 67 68  0 70 71  0\n",
      " 73 74 75 76 77 78 79 80  0 82 83 84 85 86 87  0 89 90 91  0 93 94  0 96\n",
      "  0 98 99]\n"
     ]
    }
   ],
   "source": [
    "\n",
    "a = np.arange(1, 100)   \n",
    "\n",
    "a_random = np.random.choice(a.size, 20, replace=False)\n",
    "a[a_random] = 0\n",
    "print(a_random)\n",
    "print(a)\n"
   ]
  },
  {
   "cell_type": "markdown",
   "id": "736e5117-61cd-48c1-9ae8-278926e586a7",
   "metadata": {},
   "source": [
    "### Câu hỏi 34. Làm thế nào để lọc một mảng numpy dựa trên hai hoặc nhiều điều kiện?\n",
    "\n",
    "Ví dụ: Lọc các hàng của a có các giá trị của (cột thứ 3) > 1,5 và các giá trị (cột thứ 1) < 5,0"
   ]
  },
  {
   "cell_type": "code",
   "execution_count": 49,
   "id": "eee1ae75-f872-4e53-9fbe-48f9a2a7f3bb",
   "metadata": {},
   "outputs": [
    {
     "name": "stdout",
     "output_type": "stream",
     "text": [
      "[1 2 3]\n",
      "[4 5 6]\n"
     ]
    }
   ],
   "source": [
    "\n",
    "a = np.array([[1, 2, 3],\n",
    "              [4, 5, 6],\n",
    "              [7, 8, 9]])\n",
    "\n",
    "a_loc = (a[:, 2] > 1.5) & (a[:, 0] < 5.0)\n",
    "\n",
    "for i in range(len(a_loc)):\n",
    "    if a_loc[i] == True:\n",
    "        print(a[i, :])\n"
   ]
  },
  {
   "cell_type": "markdown",
   "id": "9626f29b-cf5f-4809-a11c-076b7d01d208",
   "metadata": {},
   "source": [
    "### Câu hỏi 36. Làm thế nào để tìm mối tương quan giữa hai cột của mảng numpy?"
   ]
  },
  {
   "cell_type": "code",
   "execution_count": 51,
   "id": "e685409d-a6ed-431a-8ee4-15ae5924c9f1",
   "metadata": {},
   "outputs": [
    {
     "name": "stdout",
     "output_type": "stream",
     "text": [
      "1.0\n"
     ]
    }
   ],
   "source": [
    "\n",
    "a = np.array([[1, 2],\n",
    "              [3, 4],\n",
    "              [5, 6]])\n",
    "\n",
    "a_tuong_quan = np.corrcoef(a[:, 0], a[:, 1])\n",
    "print(a_tuong_quan[0, 1])\n"
   ]
  },
  {
   "cell_type": "markdown",
   "id": "42ac071e-15c2-44e8-993c-ee2a66edf97a",
   "metadata": {},
   "source": [
    "### Câu hỏi 44. Làm thế nào để sắp xếp một mảng 2D theo một cột"
   ]
  },
  {
   "cell_type": "code",
   "execution_count": 53,
   "id": "4ba105e4-647b-4ae7-8671-638aa6468c44",
   "metadata": {},
   "outputs": [
    {
     "name": "stdout",
     "output_type": "stream",
     "text": [
      "[[4 2 6]\n",
      " [2 5 5]\n",
      " [1 6 3]]\n"
     ]
    }
   ],
   "source": [
    "\n",
    "a = np.array([[1, 6, 3],\n",
    "              [4, 2, 6],\n",
    "              [2, 5, 5]])\n",
    "\n",
    "a_sort = a[a[:, 1].argsort()]\n",
    "\n",
    "print(a_sort)\n"
   ]
  },
  {
   "cell_type": "markdown",
   "id": "dcad8b50-44ec-45a6-a5e1-fae8a41a7383",
   "metadata": {},
   "source": [
    "### Câu hỏi 45. Làm thế nào để tìm giá trị thường xuyên nhất trong một mảng numpy?"
   ]
  },
  {
   "cell_type": "code",
   "execution_count": 57,
   "id": "1fe6bc89-5a24-438e-9f03-d86068264574",
   "metadata": {},
   "outputs": [
    {
     "name": "stdout",
     "output_type": "stream",
     "text": [
      "[1 2 3 4]\n",
      "[1 4 2 1]\n",
      "1\n",
      "2\n"
     ]
    }
   ],
   "source": [
    "\n",
    "a = np.array([1, 2, 2, 2, 2, 3, 3, 4])\n",
    "\n",
    "value, count = np.unique(a, return_counts=True)\n",
    "print(value)\n",
    "print(count)\n",
    "\n",
    "a_so_lan_max = value[np.argmax(count)]\n",
    "print(np.argmax(count))\n",
    "print(a_so_lan_max)\n",
    "\n"
   ]
  },
  {
   "cell_type": "markdown",
   "id": "8ee0cae4-980e-42de-a93f-26292bea412a",
   "metadata": {},
   "source": [
    "### Câu hỏi 47. Làm thế nào để thay thế tất cả các giá trị lớn hơn một giá trị nhất định thành một ngưỡng nhất định?\n",
    "\n",
    "Ví dụ: Từ mảng a, thay thế tất cả các giá trị lớn hơn 30 đến 30 và nhỏ hơn 10 đến 10."
   ]
  },
  {
   "cell_type": "code",
   "execution_count": 59,
   "id": "1e9fd9da-6f5e-4231-974d-704a76d043b3",
   "metadata": {},
   "outputs": [
    {
     "name": "stdout",
     "output_type": "stream",
     "text": [
      "[10 10 15 20 25 30 30]\n"
     ]
    }
   ],
   "source": [
    "\n",
    "a = np.array([5, 10, 15, 20, 25, 30, 35])\n",
    "\n",
    "a[a > 30] = 30\n",
    "\n",
    "a[a < 10] = 10\n",
    "\n",
    "print(a)\n"
   ]
  },
  {
   "cell_type": "markdown",
   "id": "a1368ddb-268a-4706-ae39-b1a293703752",
   "metadata": {},
   "source": [
    "### Câu hỏi 48. Làm thế nào để lấy vị trí của n giá trị hàng đầu từ một mảng numpy?\n",
    "\n",
    "Ví dụ: Lấy vị trí của 5 giá trị lớn nhất trong một mảng cho trước a."
   ]
  },
  {
   "cell_type": "code",
   "execution_count": 64,
   "id": "caba299c-0f72-4cf8-b8d6-0f40cefcecbc",
   "metadata": {},
   "outputs": [
    {
     "name": "stdout",
     "output_type": "stream",
     "text": [
      "[0 4 1 5 3 2 6]\n",
      "Vi tri cua 5 gia tri lon nhat: [6 2 3 5 1]\n"
     ]
    }
   ],
   "source": [
    "\n",
    "a = np.array([1, 3, 7, 6, 2, 5, 8])\n",
    "n = 5\n",
    "\n",
    "a_sort_index = np.argsort(a)\n",
    "print(a_sort_index)\n",
    "\n",
    "pos_5_max = a_sort_index[-n:][::-1] \n",
    "\n",
    "print(\"Vi tri cua 5 gia tri lon nhat:\", pos_5_max)\n"
   ]
  },
  {
   "cell_type": "markdown",
   "id": "76cd6a89-fd68-4002-9037-3ef72673f260",
   "metadata": {},
   "source": [
    "### Câu hỏi 50. Làm thế nào để chuyển đổi một mảng các mảng thành một mảng phẳng 1 chiều?"
   ]
  },
  {
   "cell_type": "code",
   "execution_count": null,
   "id": "d99a1f88-57fe-4d54-bf95-7ad7e91490af",
   "metadata": {},
   "outputs": [
    {
     "name": "stdout",
     "output_type": "stream",
     "text": [
      "[1 2 3 4 5 6]\n"
     ]
    }
   ],
   "source": [
    "\n",
    "a = np.array([[1, 2, 3], \n",
    "              [4, 5, 6]])\n",
    "\n",
    "a_1_chieu = a.flatten()\n",
    "print(a_1_chieu)\n"
   ]
  },
  {
   "cell_type": "code",
   "execution_count": 67,
   "id": "59fc39ef-b0f0-446f-9c89-6a82afbaed89",
   "metadata": {},
   "outputs": [
    {
     "name": "stdout",
     "output_type": "stream",
     "text": [
      "[1 2 3 4 5 6]\n"
     ]
    }
   ],
   "source": [
    "a = np.array([[1, 2, 3], \n",
    "              [4, 5, 6]])\n",
    "\n",
    "a_1_chieu = a.ravel()\n",
    "print(a_1_chieu)\n"
   ]
  }
 ],
 "metadata": {
  "kernelspec": {
   "display_name": "Python 3",
   "language": "python",
   "name": "python3"
  },
  "language_info": {
   "codemirror_mode": {
    "name": "ipython",
    "version": 3
   },
   "file_extension": ".py",
   "mimetype": "text/x-python",
   "name": "python",
   "nbconvert_exporter": "python",
   "pygments_lexer": "ipython3",
   "version": "3.13.7"
  }
 },
 "nbformat": 4,
 "nbformat_minor": 5
}
